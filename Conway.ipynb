{
 "cells": [
  {
   "cell_type": "code",
   "execution_count": 1,
   "metadata": {},
   "outputs": [],
   "source": [
    "%gui asyncio\n",
    "\n",
    "from threading import Thread\n",
    "from time import sleep\n",
    "from ipywidgets import GridspecLayout, Layout, Button\n",
    "from IPython.display import display\n",
    "\n",
    "GESTOPPT = True\n",
    "TERMINATE = False\n",
    "GRID_GROSSE = 20\n",
    "MAIN_LOOP = None\n",
    "ZELLEN_ZUSTAND = {}\n",
    "SPIELFELD = None\n",
    "\n",
    "def zustand_festlegen(button, zustand):\n",
    "    if zustand not in [\"an\", \"aus\"]:\n",
    "        raise RuntimeError(\"Falscher Zustand gegeben: \" + zustand + \" an Zelle \" + str(x) + \", \" + str(y))\n",
    "    \n",
    "    x = button.location_x\n",
    "    y = button.location_y\n",
    "    ZELLEN_ZUSTAND[x, y] = zustand\n",
    "    if zustand == \"an\":\n",
    "        button.style = {\"button_color\": \"gray\"}\n",
    "    else:\n",
    "        button.style = {\"button_color\": \"white\"}\n",
    "  \n",
    "def spielfeld_erstellen():\n",
    "    global GESTOPPT\n",
    "    zelle_grosse = 30\n",
    "    spielfeld = GridspecLayout(\n",
    "        GRID_GROSSE,\n",
    "        GRID_GROSSE,\n",
    "        width=f\"{zelle_grosse * GRID_GROSSE}px\",\n",
    "        height=f\"{zelle_grosse * GRID_GROSSE}px\",\n",
    "        style={\"background_color\": \"black\"}\n",
    "    )\n",
    "\n",
    "    def zustand_wechseln(button):\n",
    "        if not GESTOPPT:\n",
    "            return\n",
    "        x = button.location_x\n",
    "        y = button.location_y\n",
    "        if ZELLEN_ZUSTAND[x, y] == \"aus\":\n",
    "            zustand_festlegen(button, \"an\")\n",
    "        else:\n",
    "            zustand_festlegen(button, \"aus\")\n",
    "\n",
    "    for x in range(GRID_GROSSE):\n",
    "        for y in range(GRID_GROSSE):\n",
    "            button = Button(\n",
    "                layout=Layout(height=\"auto\", width=\"auto\", margin=\"0\", border=\"1px solid gray\"),\n",
    "            )\n",
    "            button.location_x = x\n",
    "            button.location_y = y\n",
    "            zustand_festlegen(button, \"aus\")\n",
    "            button.on_click(zustand_wechseln)\n",
    "            spielfeld[x, y] = button\n",
    "\n",
    "    return spielfeld\n",
    "\n",
    "def conways_spiel():\n",
    "    global GESTOPPT, MAIN_LOOP, ZELLEN_ZUSTAND, TERMINATE, SPIELFELD\n",
    "    GESTOPPT = True\n",
    "    ZELLEN_ZUSTAND = {}\n",
    "    SPIELFELD = spielfeld_erstellen()\n",
    "\n",
    "    play_button = Button(description=\"Play\", layout=Layout(width=\"80px\"))\n",
    "    pause_button = Button(description=\"Pause\", disabled=True, layout=Layout(width=\"80px\"))\n",
    "    leeren_button = Button(description=\"Leeren\", disabled=False, layout=Layout(width=\"80px\"))\n",
    "\n",
    "    def play(_):\n",
    "        global GESTOPPT\n",
    "        GESTOPPT = False\n",
    "        play_button.disabled = True\n",
    "        leeren_button.disabled = True\n",
    "        pause_button.disabled = False\n",
    "\n",
    "    def pause(_):\n",
    "        global GESTOPPT\n",
    "        GESTOPPT = True\n",
    "        play_button.disabled = False\n",
    "        leeren_button.disabled = False\n",
    "        pause_button.disabled = True\n",
    "\n",
    "    def leeren(_):\n",
    "        global GESTOPPT\n",
    "        for x in range(GRID_GROSSE):\n",
    "            for y in range(GRID_GROSSE):\n",
    "                zelle = SPIELFELD[x, y]\n",
    "                zustand_festlegen(zelle, \"aus\")\n",
    "\n",
    "    play_button.on_click(play)\n",
    "    pause_button.on_click(pause)\n",
    "    leeren_button.on_click(leeren)\n",
    "    display(play_button)\n",
    "    display(pause_button)\n",
    "    display(leeren_button)\n",
    "\n",
    "    display(SPIELFELD)\n",
    "\n",
    "def tick(zelle, zellen_zustand, nachbarn_zustaende):\n",
    "    pass\n",
    "\n",
    "TICK_STEP = 0.5\n",
    "def main_loop():\n",
    "    while True:\n",
    "      sleep(TICK_STEP)\n",
    "      if GESTOPPT:\n",
    "          continue\n",
    "      altem_zustand = ZELLEN_ZUSTAND.copy()\n",
    "      for x in range(GRID_GROSSE):\n",
    "        for y in range(GRID_GROSSE):\n",
    "          zelle = SPIELFELD[x, y]\n",
    "          nachbarn_zustaende = []\n",
    "          for nachbar_x in range(x - 1, x + 2):\n",
    "            for nachbar_y in range(y - 1, y + 2):\n",
    "              if nachbar_x == x and nachbar_y == y:\n",
    "                # Das sind uns!!\n",
    "                continue\n",
    "              if nachbar_x >= 0 and nachbar_x < GRID_GROSSE and nachbar_y >= 0 and nachbar_y < GRID_GROSSE:\n",
    "                nachbarn_zustaende.append(altem_zustand[nachbar_x, nachbar_y])\n",
    "          tick(zelle, altem_zustand[x, y], nachbarn_zustaende)\n",
    "\n",
    "if not MAIN_LOOP:\n",
    "    MAIN_LOOP = Thread(target=main_loop)\n",
    "    MAIN_LOOP.start()"
   ]
  },
  {
   "cell_type": "code",
   "execution_count": 2,
   "metadata": {},
   "outputs": [
    {
     "data": {
      "application/vnd.jupyter.widget-view+json": {
       "model_id": "e3fd6dd9bcf541519877bec27b96022e",
       "version_major": 2,
       "version_minor": 0
      },
      "text/plain": [
       "Button(description='Play', layout=Layout(width='80px'), style=ButtonStyle())"
      ]
     },
     "metadata": {},
     "output_type": "display_data"
    },
    {
     "data": {
      "application/vnd.jupyter.widget-view+json": {
       "model_id": "ca61e5a2294a4ab09ff5d3f380076aeb",
       "version_major": 2,
       "version_minor": 0
      },
      "text/plain": [
       "Button(description='Pause', disabled=True, layout=Layout(width='80px'), style=ButtonStyle())"
      ]
     },
     "metadata": {},
     "output_type": "display_data"
    },
    {
     "data": {
      "application/vnd.jupyter.widget-view+json": {
       "model_id": "6da86a572ed049259e05a21bed4aae77",
       "version_major": 2,
       "version_minor": 0
      },
      "text/plain": [
       "Button(description='Leeren', disabled=True, layout=Layout(width='80px'), style=ButtonStyle())"
      ]
     },
     "metadata": {},
     "output_type": "display_data"
    },
    {
     "data": {
      "application/vnd.jupyter.widget-view+json": {
       "model_id": "e9853e0785234052a8864230e315493a",
       "version_major": 2,
       "version_minor": 0
      },
      "text/plain": [
       "GridspecLayout(children=(Button(layout=Layout(border_bottom='1px solid gray', border_left='1px solid gray', bo…"
      ]
     },
     "metadata": {},
     "output_type": "display_data"
    }
   ],
   "source": [
    "def tick(zelle, altem_zustand, nachbarn_zustaende):\n",
    "    zustand_festlegen(zelle, \"aus\")\n",
    "\n",
    "conways_spiel()"
   ]
  },
  {
   "cell_type": "code",
   "execution_count": null,
   "metadata": {},
   "outputs": [],
   "source": []
  }
 ],
 "metadata": {
  "kernelspec": {
   "display_name": "Python 3 (ipykernel)",
   "language": "python",
   "name": "python3"
  },
  "language_info": {
   "codemirror_mode": {
    "name": "ipython",
    "version": 3
   },
   "file_extension": ".py",
   "mimetype": "text/x-python",
   "name": "python",
   "nbconvert_exporter": "python",
   "pygments_lexer": "ipython3",
   "version": "3.12.7"
  }
 },
 "nbformat": 4,
 "nbformat_minor": 4
}
